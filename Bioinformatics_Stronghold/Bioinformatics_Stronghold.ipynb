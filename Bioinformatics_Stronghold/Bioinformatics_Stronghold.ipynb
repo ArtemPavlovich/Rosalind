{
 "cells": [
  {
   "cell_type": "markdown",
   "metadata": {},
   "source": [
    "## [Counting DNA Nucleotides](http://rosalind.info/problems/dna/)"
   ]
  },
  {
   "cell_type": "code",
   "execution_count": 5,
   "metadata": {},
   "outputs": [
    {
     "name": "stdout",
     "output_type": "stream",
     "text": [
      "241 227 265 246\n"
     ]
    }
   ],
   "source": [
    "t=open('rosalind_dna.txt','r').read()\n",
    "print(f.count('A'),lst.count('C'),lst.count('G'),lst.count('T'))"
   ]
  },
  {
   "cell_type": "markdown",
   "metadata": {},
   "source": [
    "## [Transcribing DNA into RNA](http://rosalind.info/problems/rna/)"
   ]
  },
  {
   "cell_type": "code",
   "execution_count": 10,
   "metadata": {},
   "outputs": [
    {
     "name": "stdout",
     "output_type": "stream",
     "text": [
      "UAACGUUUCCGCAGCUGCCGGCACCUCCAAAUCUCAUUGUACGAACAGAUUAACUCAUAAUAUAUGCGCAUCUUCCCCAUGUUCUUCCUUCCAUAUGAGCGCGUCGUGGAACAAAGAGUACGCCCGACUGUUGACCUACUUUCACCACCUGACCGUUCGCGGGCGUCGAGAAGGACGUACGUGGCCGCCAUUACGUAUCUCUAAGGGGUUCGUACACCAGUCGGGGCUCUGCCAUUCUGGCGUGUUCGCGUGCCACGAUUUGAUACAUUCUCUAGAAAAGGAUAGGAUCUGUUCCGAUGAGGCGCGCAUUACCCCGAUGCGGUCUCGGUAGAUCAGCCUUAUGAUUAUUCAUCAUCACCAAACUCUUCAAAACAAGACGCCAGCGGUAAUUCAACACAACGUUCUAAUAAUUGCACAAGAUGCGCGGAACCCAACGCUGGGAUCACGUCGUGGUUCCCACCGCCUUCUUAACCAGCGCUUUAUGGAGCACUCCCGGGUGCAUGAGCGUCGAAAACGCCAUUGAUGGCCCAACGCCUGUUCCCAAACACUAUUCGGCAGGACCUAAUGCUGGCUGCAGUACGUCAGCCGGCGAAGUUUUGCUAUUUGUUAUCCUGAGAACGUAUAGUCCACGCAGGACGUCCUUCGGUCACUUUUAUUAUCACACUACUACGGCCCCUUAAGGCAAGACGUACCUACGUUUAAGCGAUGCGGUGGGUCGCCAACCUAAGUACCGUGACCCGUUUUAUGAGUAAUAAUAAAAGGUUCGGAGUCGUACUGACUUGGCCUGCGUGACCUUAGUCAGGUCGAGGGAACUAGCUUAUUCAGGGGUCAACUUCCCAGCCAGAUCGCAGUCGCUUGGUACCUCUGUGGGAGCGGAGUAAUUGAAAUGACUGGUGACAUUUCUUAGACUCAUGUGCCGGGUGAG\n",
      "\n"
     ]
    }
   ],
   "source": [
    "t=open('rosalind_rna.txt','r').read()\n",
    "print(t.replace('T','U'))"
   ]
  },
  {
   "cell_type": "markdown",
   "metadata": {},
   "source": [
    "## [Complementing a Strand of DNA](http://rosalind.info/problems/revc/)"
   ]
  },
  {
   "cell_type": "code",
   "execution_count": 18,
   "metadata": {},
   "outputs": [
    {
     "data": {
      "text/plain": [
       "'\\nCCCCTGCTAAACCTTGCGGAATCCTTCTATTCGATTTTCGGGCCCCTGCCTCGTTCCGGCCTAATCTGATTCTTTGTGCCAGGGCAGGTCCCCCGACGCTGGCGTCCTACCCGATATGAGCTTAAATCCGATTTCACCGTGGTTGATCGGTTGAGGACCACCGATAAATGATTATCACGGAAATGATGGATGTAAGTATACGTGGAAGATAGGTCGTCTGGGCAAGAGTCGACCGTTGCAGGTATGAGCATAAGACTATTTGCCGCGTCCCATTCAATCGTTGCATCCGGGATCCAAGGATTGGGCTAGGAAAAGGCGTGGTGAGAAATCGAACGCAGGGAGCTCCTCGGACCATTCGTTGCTCGTGATACCTAGGTTGAGCGAACGTGTGTGGATGTAGTGCTTCCTACGGGTAAACTGACCTTATGGCAATGAACTGTATGGTGTCGTCGTCCTCATAGCCACAAGCATCTCTCGAACTTAGGTGGGGGCTTTACACGGGCATACTGCACGTAGTTTAAGTATTTTGTAACATCGACATCTCATTAGGGCCATCTTGACCGGATTCCAATGAACCTATTTCTTCGCCACCAGAGCTGGCCGAAGTTAGTTCTGATAAGCATACGGCCGGTCCCCTGTCCCGCCCTGTAGTTAGTGGTTGCCTACTAGTCCCCTGTTGTATGGCCCGTTGCACTAAGCGAGGAGACGGATGGCAATGCGATATGCTCCCGCGAGTACTGTTTCGGGATGTCTAACATTCGTTAGATGCTCCGGAACGTCAGGAAGACTGTTCCCCCCTCGGATATAGAATAGAAACCTATAAGGTTT'"
      ]
     },
     "execution_count": 18,
     "metadata": {},
     "output_type": "execute_result"
    }
   ],
   "source": [
    "t=open('rosalind_revc.txt','r').read()\n",
    "t[::-1].replace('T','k').replace('A','T').replace('k','A').replace('C','k').replace('G','C').replace('k','G')"
   ]
  },
  {
   "cell_type": "markdown",
   "metadata": {},
   "source": [
    "## [Rabbits and Recurrence Relations](http://rosalind.info/problems/fib/)"
   ]
  },
  {
   "cell_type": "code",
   "execution_count": 3,
   "metadata": {},
   "outputs": [
    {
     "name": "stdout",
     "output_type": "stream",
     "text": [
      "5164501096416\n"
     ]
    }
   ],
   "source": [
    "f=open('rosalind_fib.txt','r').read()[:-1].split(' ')\n",
    "time = int(f[0])\n",
    "litter = int(f[1])\n",
    "back_1 = 1\n",
    "back_2 = 0\n",
    "for month in range(2,time+1):\n",
    "    x = litter * back_2 + back_1\n",
    "    back_2 = back_1\n",
    "    back_1 = x\n",
    "print(x)"
   ]
  },
  {
   "cell_type": "markdown",
   "metadata": {},
   "source": [
    "## [Mortal Fibonacci Rabbits](http://rosalind.info/problems/fibd/)"
   ]
  },
  {
   "cell_type": "markdown",
   "metadata": {},
   "source": [
    "#### Direct tracking"
   ]
  },
  {
   "cell_type": "code",
   "execution_count": 27,
   "metadata": {},
   "outputs": [
    {
     "data": {
      "text/plain": [
       "31867968671817107322"
      ]
     },
     "execution_count": 27,
     "metadata": {},
     "output_type": "execute_result"
    }
   ],
   "source": [
    "f=open('rosalind_fibd.txt','r').read()[:-1].split(' ')\n",
    "time = int(f[0])\n",
    "lifespan = int(f[1])\n",
    "N = [0] * lifespan\n",
    "N[-1] = 1\n",
    "for month in range(2,time+1):\n",
    "    new = sum(N[:-1])\n",
    "    N=list(N[1:])\n",
    "    N.append(new)\n",
    "sum(N)"
   ]
  },
  {
   "cell_type": "markdown",
   "metadata": {},
   "source": [
    "#### Recurent formula"
   ]
  },
  {
   "cell_type": "code",
   "execution_count": 105,
   "metadata": {},
   "outputs": [
    {
     "data": {
      "text/plain": [
       "31867968671817107322"
      ]
     },
     "execution_count": 105,
     "metadata": {},
     "output_type": "execute_result"
    }
   ],
   "source": [
    "f=open('rosalind_fibd.txt','r').read()[:-1].split(' ')\n",
    "time = int(f[0])\n",
    "lifespan = int(f[1])\n",
    "N = [0] * (lifespan+1)\n",
    "N[-1] = 1\n",
    "for month in range(2,time+1):\n",
    "    if month == lifespan+1:\n",
    "        N[0] = 1\n",
    "    x = N[-1] + N[-2] - N[0]\n",
    "    for k in range(len(N)-1):\n",
    "        N[k] = N[k+1]\n",
    "    N[-1] = x\n",
    "x"
   ]
  },
  {
   "cell_type": "markdown",
   "metadata": {},
   "source": [
    "## [Mendel's First Law](http://rosalind.info/problems/iprb/)"
   ]
  },
  {
   "cell_type": "code",
   "execution_count": 52,
   "metadata": {},
   "outputs": [
    {
     "data": {
      "text/plain": [
       "0.7911764705882353"
      ]
     },
     "execution_count": 52,
     "metadata": {},
     "output_type": "execute_result"
    }
   ],
   "source": [
    "from math import factorial as fact\n",
    "\n",
    "def P(k, m, n, x):\n",
    "    all = k + m + n\n",
    "    C = fact(all) / fact(k) / fact(m) / fact(n)\n",
    "    C_pick = (fact(all - sum(x)) / fact(k-x[0]) / fact(m-x[1]) / fact(n-x[2])) * \\\n",
    "        (fact(sum(x)) / fact(x[0]) / fact(x[1]) / fact(x[2]))\n",
    "    return C_pick / C\n",
    "\n",
    "f=open('rosalind_iprb.txt','r').read()[:-1].split(' ')\n",
    "k = int(f[0]) #homo dominant\n",
    "m = int(f[1]) #hetero \n",
    "n = int(f[2]) #homo recesive\n",
    "\n",
    "#probs of having dominant allele after mating\n",
    "p_kk = 1\n",
    "p_km = 1\n",
    "p_kn = 1\n",
    "p_mm = 0.75\n",
    "p_mn = 0.5\n",
    "p_nn = 0\n",
    "\n",
    "Pr = p_kk * P(k, m, n, [2, 0, 0]) + p_km * P(k, m, n, [1, 1, 0]) + p_kn * P(k, m, n, [1, 0, 1]) + \\\n",
    "    p_mm * P(k, m, n, [0, 2, 0]) + p_mn * P(k, m, n, [0, 1, 1]) + p_nn * P(k, m, n, [0, 0, 2])\n",
    "Pr"
   ]
  },
  {
   "cell_type": "markdown",
   "metadata": {},
   "source": [
    "## [Counting Point Mutations](http://rosalind.info/problems/hamm/)"
   ]
  },
  {
   "cell_type": "code",
   "execution_count": 20,
   "metadata": {},
   "outputs": [
    {
     "data": {
      "text/plain": [
       "452"
      ]
     },
     "execution_count": 20,
     "metadata": {},
     "output_type": "execute_result"
    }
   ],
   "source": [
    "f=open('rosalind_hamm.txt','r').read()[:-1].split('\\n')\n",
    "s = f[0]\n",
    "t = f[1]\n",
    "ham = 0\n",
    "for char1, char2 in zip(s,t):\n",
    "    if not char1 == char2:\n",
    "        ham += 1\n",
    "ham"
   ]
  },
  {
   "cell_type": "markdown",
   "metadata": {},
   "source": [
    "## [Finding a Motif in DNA](http://rosalind.info/problems/subs/)"
   ]
  },
  {
   "cell_type": "code",
   "execution_count": 44,
   "metadata": {},
   "outputs": [
    {
     "data": {
      "text/plain": [
       "'1 8 103 135 180 213 220 264 271 278 328 374 489 496 513 548 595 602 656 663 670 685 718 725 764 781'"
      ]
     },
     "execution_count": 44,
     "metadata": {},
     "output_type": "execute_result"
    }
   ],
   "source": [
    "f=open('rosalind_subs.txt','r').read()[:-1].split('\\n')\n",
    "s = f[0]\n",
    "t = f[1]\n",
    "loc = []\n",
    "pos = 0\n",
    "while True:\n",
    "    pos = s.find(t,pos) + 1\n",
    "    if pos == 0:\n",
    "        break\n",
    "    loc.append(pos)\n",
    "str(loc).strip('[]').replace(', ',' ')"
   ]
  },
  {
   "cell_type": "markdown",
   "metadata": {},
   "source": [
    "## [Translating RNA into Protein](http://rosalind.info/problems/prot/)"
   ]
  },
  {
   "cell_type": "markdown",
   "metadata": {},
   "source": [
    "**Given**: An RNA string s corresponding to a strand of mRNA (of length at most 10 kbp).\n",
    "\n",
    "**Return**: The protein string encoded by s."
   ]
  },
  {
   "cell_type": "markdown",
   "metadata": {},
   "source": [
    "### Making codon dictionary"
   ]
  },
  {
   "cell_type": "code",
   "execution_count": 106,
   "metadata": {},
   "outputs": [],
   "source": [
    "t=open('RNA_codons.txt','r').read()[:-1].split()"
   ]
  },
  {
   "cell_type": "code",
   "execution_count": 119,
   "metadata": {},
   "outputs": [],
   "source": [
    "codons = dict(zip(t[0::2],t[1::2]))"
   ]
  },
  {
   "cell_type": "markdown",
   "metadata": {},
   "source": [
    "### Translation"
   ]
  },
  {
   "cell_type": "code",
   "execution_count": 120,
   "metadata": {},
   "outputs": [],
   "source": [
    "f=open('rosalind_prot.txt','r').read()[:-1]\n",
    "s = f\n",
    "prot = ''\n",
    "for k in range(0, len(s)-3, 3):\n",
    "    prot += codons[s[k:k+3]]\n",
    "prot = prot.replace('Stop','')"
   ]
  },
  {
   "cell_type": "markdown",
   "metadata": {},
   "source": [
    "## [Computing GC Content](http://rosalind.info/problems/gc/)"
   ]
  },
  {
   "cell_type": "markdown",
   "metadata": {},
   "source": [
    "**Given**:At most 10 DNA strings in FASTA format (of length at most 1 kbp each).\n",
    "\n",
    "**Return**: The ID of the string having the highest GC-content, followed by the GC-content of that string."
   ]
  },
  {
   "cell_type": "code",
   "execution_count": 84,
   "metadata": {},
   "outputs": [
    {
     "name": "stdout",
     "output_type": "stream",
     "text": [
      "Rosalind_7335\n",
      "52.09039548022831\n"
     ]
    }
   ],
   "source": [
    "f = open('rosalind_gc.txt','r').read()[1:].replace('\\n','').split('>')\n",
    "f.sort(reverse=True)\n",
    "max_ratio = 0\n",
    "max_id = f[1][:13]\n",
    "for string in f:\n",
    "    string_id = string[:13]\n",
    "    code = string[13:]\n",
    "    length = len(code)\n",
    "    max_pos_ratio = 1\n",
    "    for char in code:\n",
    "        if char == 'A' or char == 'T':\n",
    "            max_pos_ratio -= 1 / length\n",
    "        if max_pos_ratio < max_ratio:    \n",
    "            string_id = max_id\n",
    "        if max_pos_ratio < max_ratio:    \n",
    "            break \n",
    "    max_ratio = max(max_pos_ratio, max_ratio)\n",
    "    max_id = string_id\n",
    "print(max_id)\n",
    "print(max_ratio * 100)"
   ]
  },
  {
   "cell_type": "markdown",
   "metadata": {},
   "source": [
    "## [Calculating Expected Offspring](http://rosalind.info/problems/iev/)"
   ]
  },
  {
   "cell_type": "markdown",
   "metadata": {},
   "source": [
    "**Given**: Six nonnegative integers, each of which does not exceed 20,000. The integers correspond to the number of couples in a population possessing each genotype pairing for a given factor. In order, the six given integers represent the number of couples having the following genotypes:\n",
    "AA-AA\n",
    "AA-Aa\n",
    "AA-aa\n",
    "Aa-Aa\n",
    "Aa-aa\n",
    "aa-aa\n",
    "\n",
    "**Return**: The expected number of offspring displaying the dominant phenotype in the next generation, under the assumption that every couple has exactly two offspring."
   ]
  },
  {
   "cell_type": "code",
   "execution_count": 11,
   "metadata": {},
   "outputs": [
    {
     "data": {
      "text/plain": [
       "153923.5"
      ]
     },
     "execution_count": 11,
     "metadata": {},
     "output_type": "execute_result"
    }
   ],
   "source": [
    "f=list(map(int,open('rosalind_iev.txt','r').read().split()))\n",
    "dom_avg = 2 * f[0] + 2 * f[1] + 2 * f[2] + 2 * f[3] * 0.75 + 2 * f[4] * 0.5\n",
    "dom_avg"
   ]
  },
  {
   "cell_type": "markdown",
   "metadata": {},
   "source": [
    "## [Calculating Protein Mass](http://rosalind.info/problems/prtm/)"
   ]
  },
  {
   "cell_type": "markdown",
   "metadata": {},
   "source": [
    "**Given**:  A protein string P of length at most 1000 aa.\n",
    "\n",
    "**Return**: The total weight of P. Consult the monoisotopic mass table."
   ]
  },
  {
   "cell_type": "code",
   "execution_count": 26,
   "metadata": {},
   "outputs": [
    {
     "data": {
      "text/plain": [
       "118401.82362000046"
      ]
     },
     "execution_count": 26,
     "metadata": {},
     "output_type": "execute_result"
    }
   ],
   "source": [
    "f=open('rosalind_prtm_dict.txt','r').read().split()\n",
    "f=dict(zip(f[0::2],f[1::2]))\n",
    "\n",
    "t=list(open('rosalind_prtm.txt','r').read().replace('\\n',''))\n",
    "\n",
    "mass = 0\n",
    "for acid in t:\n",
    "    mass += float(f[acid])\n",
    "\n",
    "mass"
   ]
  },
  {
   "cell_type": "markdown",
   "metadata": {},
   "source": [
    "## [Inferring mRNA from Protein](http://rosalind.info/problems/mrna/)"
   ]
  },
  {
   "cell_type": "markdown",
   "metadata": {},
   "source": [
    "**Given**:  A protein string of length at most 1000 aa.\n",
    "\n",
    "**Return**: The total number of different RNA strings from which the protein could have been translated, modulo 1,000,000. (Don't neglect the importance of the stop codon in protein translation.)"
   ]
  },
  {
   "cell_type": "code",
   "execution_count": null,
   "metadata": {},
   "outputs": [],
   "source": []
  }
 ],
 "metadata": {
  "kernelspec": {
   "display_name": "Python 3 (ipykernel)",
   "language": "python",
   "name": "python3"
  },
  "language_info": {
   "codemirror_mode": {
    "name": "ipython",
    "version": 3
   },
   "file_extension": ".py",
   "mimetype": "text/x-python",
   "name": "python",
   "nbconvert_exporter": "python",
   "pygments_lexer": "ipython3",
   "version": "3.9.7"
  }
 },
 "nbformat": 4,
 "nbformat_minor": 2
}
